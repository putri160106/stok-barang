{
 "cells": [
  {
   "cell_type": "code",
   "execution_count": 1,
   "id": "77b7fefe",
   "metadata": {},
   "outputs": [],
   "source": [
    "import numpy as np\n",
    "import pandas as pd"
   ]
  },
  {
   "cell_type": "code",
   "execution_count": 2,
   "id": "c1e47d35",
   "metadata": {},
   "outputs": [
    {
     "data": {
      "text/html": [
       "<div>\n",
       "<style scoped>\n",
       "    .dataframe tbody tr th:only-of-type {\n",
       "        vertical-align: middle;\n",
       "    }\n",
       "\n",
       "    .dataframe tbody tr th {\n",
       "        vertical-align: top;\n",
       "    }\n",
       "\n",
       "    .dataframe thead th {\n",
       "        text-align: right;\n",
       "    }\n",
       "</style>\n",
       "<table border=\"1\" class=\"dataframe\">\n",
       "  <thead>\n",
       "    <tr style=\"text-align: right;\">\n",
       "      <th></th>\n",
       "      <th>Nama Barang</th>\n",
       "      <th>Jumlah Barang</th>\n",
       "    </tr>\n",
       "  </thead>\n",
       "  <tbody>\n",
       "    <tr>\n",
       "      <th>0</th>\n",
       "      <td>Beras</td>\n",
       "      <td>750</td>\n",
       "    </tr>\n",
       "    <tr>\n",
       "      <th>1</th>\n",
       "      <td>Roti</td>\n",
       "      <td>260</td>\n",
       "    </tr>\n",
       "    <tr>\n",
       "      <th>2</th>\n",
       "      <td>Minyak</td>\n",
       "      <td>1000</td>\n",
       "    </tr>\n",
       "  </tbody>\n",
       "</table>\n",
       "</div>"
      ],
      "text/plain": [
       "  Nama Barang  Jumlah Barang\n",
       "0      Beras             750\n",
       "1        Roti            260\n",
       "2      Minyak           1000"
      ]
     },
     "execution_count": 2,
     "metadata": {},
     "output_type": "execute_result"
    }
   ],
   "source": [
    "df = pd.read_excel(\"Downloads\\data toko.xlsx\")\n",
    "df"
   ]
  },
  {
   "cell_type": "code",
   "execution_count": 3,
   "id": "8f34e684",
   "metadata": {},
   "outputs": [
    {
     "name": "stdout",
     "output_type": "stream",
     "text": [
      "0    Beras \n",
      "1      Roti\n",
      "2    Minyak\n",
      "Name: Nama Barang, dtype: object\n"
     ]
    }
   ],
   "source": [
    "print(df[\"Nama Barang\"])"
   ]
  },
  {
   "cell_type": "code",
   "execution_count": 4,
   "id": "ce0f515e",
   "metadata": {},
   "outputs": [
    {
     "name": "stdout",
     "output_type": "stream",
     "text": [
      "0     750\n",
      "1     260\n",
      "2    1000\n",
      "Name: Jumlah Barang, dtype: int64\n"
     ]
    }
   ],
   "source": [
    "print(df[\"Jumlah Barang\"])"
   ]
  },
  {
   "cell_type": "code",
   "execution_count": 5,
   "id": "d0e3eb3d",
   "metadata": {},
   "outputs": [],
   "source": [
    "for i in range(len(df)):\n",
    "    a = df[\"Nama Barang\"][i]\n",
    "    b = df[\"Jumlah Barang\"][i]"
   ]
  },
  {
   "cell_type": "code",
   "execution_count": 6,
   "id": "4691cbbf",
   "metadata": {},
   "outputs": [],
   "source": [
    "def tambah_stok(nama_barang, jumlah):\n",
    "    if nama_barang in a:\n",
    "        b = b + jumlah \n",
    "        print(f\"Stok barang {nama_barang} berhasil ditambahkan sebanyak {jumlah}.\\n\")\n",
    "    else:\n",
    "        print('Barang tidak ada pada daftar, pilih menu 4')\n",
    "    \n",
    "        \n",
    "def kurang_stok(nama_barang, jumlah):\n",
    "    if nama_barang in a:\n",
    "        if b > 0:\n",
    "            b = float(b) - float(jumlah)\n",
    "        else:\n",
    "            print(\"Barang tidak bisa dikurang\")\n",
    "    else:\n",
    "        b = jumlah\n",
    "    print(f\"Stok barang {nama_barang} berhasil dikurang sebanyak {jumlah}.\\n\")\n",
    "        \n",
    "        \n",
    "        \n",
    "def cek_stok(nama_barang):\n",
    "    if nama_barang in a:\n",
    "        print(f\"Stok barang {nama_barang}: {float(b)}\\n\")\n",
    "    else:\n",
    "        print(f\"Barang {nama_barang} tidak ditemukan dalam stok.\\n\")"
   ]
  },
  {
   "cell_type": "code",
   "execution_count": null,
   "id": "7d758b7d",
   "metadata": {},
   "outputs": [
    {
     "name": "stdout",
     "output_type": "stream",
     "text": [
      "Menu:\n",
      "1. Tambah Stok Barang\n",
      "2. Kurang Stok Barang\n",
      "3. Cek Stok Barang\n",
      "4. Keluar\n"
     ]
    }
   ],
   "source": [
    "def main():\n",
    "    stok_manajer = df\n",
    "    \n",
    "    while True:\n",
    "        print(\"Menu:\")\n",
    "        print(\"1. Tambah Stok Barang\")\n",
    "        print(\"2. Kurang Stok Barang\")\n",
    "        print(\"3. Cek Stok Barang\")\n",
    "        print(\"4. Keluar\")\n",
    "\n",
    "        pilihan = input(\"Masukkan pilihan (1/2/3/4): \")\n",
    "\n",
    "        if pilihan == '1':\n",
    "            nama_barang = input(\"Masukkan nama barang: \")\n",
    "            jumlah = int(input(\"Masukkan jumlah stok: \"))\n",
    "            stok_manajer.tambah_stok(nama_barang, jumlah)\n",
    "        elif pilihan == '2':\n",
    "            nama_barang = input(\"Masukkan nama barang: \")\n",
    "            stok_manager.kurang_stok(nama_barang, jumlah)\n",
    "        elif pilihan == '3':\n",
    "            nama_barang = input(\"Masukkan nama barang yang ingin dicek stoknya: \")\n",
    "            stok_manager.cek_stok(nama_barang)\n",
    "        elif pilihan == '4':\n",
    "            print(\"Terima kasih! Program selesai.\")\n",
    "            break\n",
    "        else:\n",
    "            print(\"Pilihan tidak valid. Silakan pilih lagi.\\n\")\n",
    "\n",
    "main()"
   ]
  },
  {
   "cell_type": "code",
   "execution_count": null,
   "id": "902039b1",
   "metadata": {},
   "outputs": [],
   "source": []
  },
  {
   "cell_type": "code",
   "execution_count": null,
   "id": "4d4408dd",
   "metadata": {},
   "outputs": [],
   "source": []
  },
  {
   "cell_type": "code",
   "execution_count": null,
   "id": "51f2f931",
   "metadata": {},
   "outputs": [],
   "source": []
  }
 ],
 "metadata": {
  "kernelspec": {
   "display_name": "Python 3 (ipykernel)",
   "language": "python",
   "name": "python3"
  },
  "language_info": {
   "codemirror_mode": {
    "name": "ipython",
    "version": 3
   },
   "file_extension": ".py",
   "mimetype": "text/x-python",
   "name": "python",
   "nbconvert_exporter": "python",
   "pygments_lexer": "ipython3",
   "version": "3.11.5"
  }
 },
 "nbformat": 4,
 "nbformat_minor": 5
}
